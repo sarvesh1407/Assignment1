{
  "nbformat": 4,
  "nbformat_minor": 0,
  "metadata": {
    "colab": {
      "name": "Assignment1.ipynb",
      "provenance": []
    },
    "kernelspec": {
      "name": "python3",
      "display_name": "Python 3"
    }
  },
  "cells": [
    {
      "cell_type": "markdown",
      "metadata": {
        "id": "p3_C8aChmxH8",
        "colab_type": "text"
      },
      "source": [
        "TASK1\n",
        "1. Install Jupyter notebook and run the first program and share the screenshot of the output - Because of system configuration could not install jupyter notebook in my system. The same message has been conveyed to Ineuron team. So I am using google colab for assignment.\n",
        "2. Write a program which will find all such numbers which are divisible by 7 but are not a multiple of 5, between 2000 and 3200 (both included). The numbers obtained should be printed in a comma-separated sequence on a single line."
      ]
    },
    {
      "cell_type": "code",
      "metadata": {
        "id": "WH01FwQko1jB",
        "colab_type": "code",
        "colab": {
          "base_uri": "https://localhost:8080/",
          "height": 54
        },
        "outputId": "c2985a9f-b6eb-46b3-873e-d018b803335f"
      },
      "source": [
        "numrange=range(2000,3201)\n",
        "for x in numrange:\n",
        "  if x%7 ==0 and (x%5 !=0):\n",
        "    print(x,sep=\",\",end=\",\")"
      ],
      "execution_count": 17,
      "outputs": [
        {
          "output_type": "stream",
          "text": [
            "2002,2009,2016,2023,2037,2044,2051,2058,2072,2079,2086,2093,2107,2114,2121,2128,2142,2149,2156,2163,2177,2184,2191,2198,2212,2219,2226,2233,2247,2254,2261,2268,2282,2289,2296,2303,2317,2324,2331,2338,2352,2359,2366,2373,2387,2394,2401,2408,2422,2429,2436,2443,2457,2464,2471,2478,2492,2499,2506,2513,2527,2534,2541,2548,2562,2569,2576,2583,2597,2604,2611,2618,2632,2639,2646,2653,2667,2674,2681,2688,2702,2709,2716,2723,2737,2744,2751,2758,2772,2779,2786,2793,2807,2814,2821,2828,2842,2849,2856,2863,2877,2884,2891,2898,2912,2919,2926,2933,2947,2954,2961,2968,2982,2989,2996,3003,3017,3024,3031,3038,3052,3059,3066,3073,3087,3094,3101,3108,3122,3129,3136,3143,3157,3164,3171,3178,3192,3199,"
          ],
          "name": "stdout"
        }
      ]
    },
    {
      "cell_type": "markdown",
      "metadata": {
        "id": "ryL-DdAlsO9u",
        "colab_type": "text"
      },
      "source": [
        "  3.Write a Python program to accept the user's first and last name and then getting them printed in\n",
        "the the reverse order with a space between first name and last name.\n"
      ]
    },
    {
      "cell_type": "code",
      "metadata": {
        "id": "X3X7RqudsWU3",
        "colab_type": "code",
        "colab": {
          "base_uri": "https://localhost:8080/",
          "height": 68
        },
        "outputId": "28b9b9a9-29ad-4075-f3ad-92f176abe7dd"
      },
      "source": [
        "Firstname = input(\"Enter your first name: \");\n",
        "Lastname = input(\"Enter your last name: \");\n",
        "Fullname = Firstname +\" \"+Lastname\n",
        "print(Fullname[::-1])"
      ],
      "execution_count": 3,
      "outputs": [
        {
          "output_type": "stream",
          "text": [
            "Enter your first name: Sarvesh\n",
            "Enter your last name: Singh\n",
            "hgniS hsevraS\n"
          ],
          "name": "stdout"
        }
      ]
    },
    {
      "cell_type": "markdown",
      "metadata": {
        "id": "B4WL7wj1ub1z",
        "colab_type": "text"
      },
      "source": [
        " 4.Write a Python program to find the volume of a sphere with diameter 12 cm.\n"
      ]
    },
    {
      "cell_type": "code",
      "metadata": {
        "id": "U8v3hfpdugQO",
        "colab_type": "code",
        "colab": {
          "base_uri": "https://localhost:8080/",
          "height": 34
        },
        "outputId": "faba8013-ce1b-460c-b8cd-07917637216b"
      },
      "source": [
        "diameter = 12\n",
        "radius = diameter/2\n",
        "pie = 3.14\n",
        "Volume = 4/3 * pie * radius**3\n",
        "print('The volume of sphere having diameter is : ',Volume)\n"
      ],
      "execution_count": 5,
      "outputs": [
        {
          "output_type": "stream",
          "text": [
            "The volume of sphere having diameter is :  904.3199999999999\n"
          ],
          "name": "stdout"
        }
      ]
    },
    {
      "cell_type": "markdown",
      "metadata": {
        "id": "dZcTwgkh3JyN",
        "colab_type": "text"
      },
      "source": [
        "TASK2\n",
        "  1. Write a program which accepts a sequence of comma-separated numbers from console and generate a list.\n"
      ]
    },
    {
      "cell_type": "code",
      "metadata": {
        "id": "qKE2gCyk3X9Q",
        "colab_type": "code",
        "colab": {
          "base_uri": "https://localhost:8080/",
          "height": 51
        },
        "outputId": "35ee4f7e-13af-4ed4-8de0-6f047e6d685b"
      },
      "source": [
        "values = input(\"Input some comma separated numbers : \")\n",
        "list = values.split(\",\")\n",
        "print('List : ',list)"
      ],
      "execution_count": 16,
      "outputs": [
        {
          "output_type": "stream",
          "text": [
            "Input some comma separated numbers : 1,2,3,45,5\n",
            "List :  ['1', '2', '3', '45', '5']\n"
          ],
          "name": "stdout"
        }
      ]
    },
    {
      "cell_type": "markdown",
      "metadata": {
        "id": "e666eri54Z75",
        "colab_type": "text"
      },
      "source": [
        " 2. Create the below pattern using nested for loop in Python.\n"
      ]
    },
    {
      "cell_type": "code",
      "metadata": {
        "id": "ZHKCRkRQ4nd6",
        "colab_type": "code",
        "colab": {
          "base_uri": "https://localhost:8080/",
          "height": 187
        },
        "outputId": "b9d81f3c-68bb-4427-d927-2fd584152d0d"
      },
      "source": [
        "for i in range (0, 5):\n",
        "    for j in range(0, i + 1):\n",
        "        print('*', end=' ')\n",
        "    print('\\r')\n",
        "for i in range (5, 0, -1):\n",
        "    for j in range(0, i -1):\n",
        "        print('*', end=' ')\n",
        "    print('\\r')"
      ],
      "execution_count": 7,
      "outputs": [
        {
          "output_type": "stream",
          "text": [
            "* \r\n",
            "* * \r\n",
            "* * * \r\n",
            "* * * * \r\n",
            "* * * * * \r\n",
            "* * * * \r\n",
            "* * * \r\n",
            "* * \r\n",
            "* \r\n",
            "\r\n"
          ],
          "name": "stdout"
        }
      ]
    },
    {
      "cell_type": "markdown",
      "metadata": {
        "id": "iCv2c-aC44dR",
        "colab_type": "text"
      },
      "source": [
        " 3. Write a Python program to reverse a word after accepting the input from the user."
      ]
    },
    {
      "cell_type": "code",
      "metadata": {
        "id": "I5qfXVJQ5BQh",
        "colab_type": "code",
        "colab": {
          "base_uri": "https://localhost:8080/",
          "height": 51
        },
        "outputId": "8d70ca63-7e89-4558-af39-5cba492e801f"
      },
      "source": [
        "String1 = input('Enter a word: ')\n",
        "print(String1[::-1])"
      ],
      "execution_count": 9,
      "outputs": [
        {
          "output_type": "stream",
          "text": [
            "Enter a word: Sarvesh\n",
            "hsevraS\n"
          ],
          "name": "stdout"
        }
      ]
    },
    {
      "cell_type": "markdown",
      "metadata": {
        "id": "pz7PS1FB5bPF",
        "colab_type": "text"
      },
      "source": [
        " 4. Write a Python Program to print the given string in the format specified in the sample output.\n",
        "\n",
        "WE, THE PEOPLE OF INDIA, having solemnly resolved to constitute India into a\n",
        "SOVEREIGN, SOCIALIST, SECULAR, DEMOCRATIC REPUBLIC and to secure to all\n",
        "its citizens"
      ]
    },
    {
      "cell_type": "code",
      "metadata": {
        "id": "Hv91jbdT5iiO",
        "colab_type": "code",
        "colab": {
          "base_uri": "https://localhost:8080/",
          "height": 85
        },
        "outputId": "78390ff2-968a-48bb-c6e1-085d782bfb6c"
      },
      "source": [
        "print('WE, THE PEOPLE OF INDIA,\\n\\thaving solemnly resolved to constitute India into a SOVEREIGN,' +'!' + '\\n\\t\\tSOCIALIST, SECULAR, DEMOCRATIC REPUBLIC\\n\\t\\t and to secure to all its citizens')"
      ],
      "execution_count": 22,
      "outputs": [
        {
          "output_type": "stream",
          "text": [
            "WE, THE PEOPLE OF INDIA,\n",
            "\thaving solemnly resolved to constitute India into a SOVEREIGN,!\n",
            "\t\tSOCIALIST, SECULAR, DEMOCRATIC REPUBLIC\n",
            "\t\t and to secure to all its citizens\n"
          ],
          "name": "stdout"
        }
      ]
    },
    {
      "cell_type": "code",
      "metadata": {
        "id": "LEI_Doaz5eLq",
        "colab_type": "code",
        "colab": {}
      },
      "source": [
        ""
      ],
      "execution_count": 0,
      "outputs": []
    }
  ]
}